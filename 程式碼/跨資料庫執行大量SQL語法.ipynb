{
 "cells": [
  {
   "cell_type": "code",
   "execution_count": null,
   "metadata": {},
   "outputs": [],
   "source": [
    "#!/usr/bin/env python\n",
    "# -*- coding: utf-8 -*-\n",
    "#跨SQL存入資料\n",
    "import json\n",
    "import threading, time\n",
    "from datetime import datetime\n",
    "import pymysql #python語法專門用來連結MySQL的套件\n",
    "\n",
    "def func():\n",
    "\n",
    "    conn = pymysql.connect(host=\"localhost\", user=\"root\", passwd=\"\", db=\"fact\", charset = 'utf8')#連結事實表的db\n",
    "    c = conn.cursor()\n",
    "\n",
    "    #sql='''語法''' 寫進已處理好準備大量執行的SQL語法\n",
    "    sql='''\n",
    "    UPDATE `facttable0930` SET `Rainfall24hr`=(SELECT `Rainfall24hr` FROM rain_09.`2018_09_30` WHERE `PublishTime`='2018-09-30 00:00:00' AND `SiteName`='信義') WHERE `utime` LIKE '2018-09-30 00:00:%%' AND `sno`=1;\n",
    "UPDATE `facttable0930` SET `Rainfall24hr`=(SELECT `Rainfall24hr` FROM rain_09.`2018_09_30` WHERE `PublishTime`='2018-09-30 00:00:00' AND `SiteName`='信義') WHERE `utime` LIKE '2018-09-30 00:00:%%' AND `sno`=2;\n",
    "UPDATE `facttable0930` SET `Rainfall24hr`=(SELECT `Rainfall24hr` FROM rain_09.`2018_09_30` WHERE `PublishTime`='2018-09-30 00:00:00' AND `SiteName`='信義') WHERE `utime` LIKE '2018-09-30 00:00:%%' AND `sno`=3;\n",
    "UPDATE `facttable0930` SET `Rainfall24hr`=(SELECT `Rainfall24hr` FROM rain_09.`2018_09_30` WHERE `PublishTime`='2018-09-30 00:00:00' AND `SiteName`='市政中心') WHERE `utime` LIKE '2018-09-30 00:00:%%' AND `sno`=4;\n",
    "'''\n",
    "    \n",
    "    sql_a=[] #陣列\n",
    "    sql=sql.replace(\"\\n\",\"\") #SQL語法中去除不必要的字串\n",
    "    sql=str(sql) #轉成字串格式\n",
    "    sql=sql.split(\";\") #每條SQL陳述句尾端分割\n",
    "    sql_a.append(sql[:-1]) #將分割好字串放入陣列中\n",
    "    \n",
    "    for i in range(0,len(sql_a[0][:])): #跑陣列長度中所有SQL語法\n",
    "        #print(sql_a[0][i]) #檢查有無成功取用完整一條SQL語法\n",
    "        try:\n",
    "            c.execute(sql_a[0][i]) #寫入db\n",
    "            print(\"SQL-\"+str(i+1)+\" ok\") #告知是否成功執行，無的話進入except\n",
    "            \n",
    "        except Exception as e:\n",
    "            print(\"Mysql Error %d: %s\" % (e.args[0], e.args[1]))\n",
    "            pass\n",
    "    conn.commit()\n",
    "    conn.close()\n",
    "        \n",
    "if __name__ == '__main__':\n",
    "    func() #跑func這個function"
   ]
  }
 ],
 "metadata": {
  "kernelspec": {
   "display_name": "Python 3",
   "language": "python",
   "name": "python3"
  },
  "language_info": {
   "codemirror_mode": {
    "name": "ipython",
    "version": 3
   },
   "file_extension": ".py",
   "mimetype": "text/x-python",
   "name": "python",
   "nbconvert_exporter": "python",
   "pygments_lexer": "ipython3",
   "version": "3.6.5"
  }
 },
 "nbformat": 4,
 "nbformat_minor": 2
}
